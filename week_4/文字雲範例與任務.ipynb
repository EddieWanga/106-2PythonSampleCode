{
 "cells": [
  {
   "cell_type": "code",
   "execution_count": 38,
   "metadata": {},
   "outputs": [],
   "source": [
    "from wordcloud import WordCloud\n",
    "import matplotlib.pyplot as plt\n",
    "import jieba\n",
    "% matplotlib inline"
   ]
  },
  {
   "cell_type": "code",
   "execution_count": 29,
   "metadata": {
    "collapsed": true
   },
   "outputs": [],
   "source": [
    "demo_text = '''\n",
    "經濟部對今年景氣看法抱持樂觀，但經濟部統計處處長林麗貞仍強調，貿易保護主義是最須注意的不確定因素，尤其美國課進口鋼鋁高關稅，很可能對我國業者造成排擠效果。\n",
    "近年貿易保護主義興起，美國總統川普持續祭出貿易制裁手段，更在本月宣布對進口鋼鋁課徵高關稅，僅加拿大、墨西哥有豁免權。\n",
    "林麗貞表示，雖然基本金屬占外銷訂單構成比僅6.3%，美國這項貿易政策不至於對整體經濟指標的後續走勢，造成太大波動，但就個別產業而言，勢必對鋼鋁業者造成衝擊。\n",
    "美國是台灣最大的鋼鐵出口市場，觀察去年我國鋼鐵及其製品出口狀況，對美出口金額達13.5億美元、占了13.2%，而我國在美國進口市場的市占率為3.9%、排名第十名。\n",
    "行政院政務委員鄧振中已率團赴美協商，希望爭取到優惠措施，降低對我國業者衝擊。\n",
    "'''\n",
    "stopwords = ['我', '對', '\\n']\n",
    "puncs = '！？｡＂＃＄％＆＇（）＊＋，－／：；＜＝＞＠［＼］＾＿｀｛｜｝～｟｠｢｣､、〃》「」『』【】〔〕〖〗〘〙〚〛〜〝〞〟〰〾〿–—‘’‛“”„‟…‧﹏.。'"
   ]
  },
  {
   "cell_type": "code",
   "execution_count": 21,
   "metadata": {},
   "outputs": [
    {
     "name": "stdout",
     "output_type": "stream",
     "text": [
      "Default Mode: \n",
      "/ 經濟部/ 對/ 今年/ 景氣/ 看法/ 抱持/ 樂觀/ ，/ 但/ 經濟部/ 統計處/ 處長/ 林麗貞/ 仍/ 強調/ ，/ 貿易/ 保護/ 主義是/ 最須/ 注意/ 的/ 不/ 確定/ 因素/ ，/ 尤其/ 美國課/ 進口/ 鋼鋁高/ 關稅/ ，/ 很/ 可能/ 對/ 我/ 國業者/ 造成/ 排擠/ 效果/ 。/ \n",
      "/ 近年/ 貿易/ 保護/ 主義興起/ ，/ 美國/ 總統川/ 普持續/ 祭出/ 貿易/ 制裁/ 手段/ ，/ 更/ 在/ 本月/ 宣布/ 對/ 進口/ 鋼鋁課/ 徵高/ 關稅/ ，/ 僅/ 加拿大/ 、/ 墨西哥/ 有/ 豁免/ 權/ 。/ \n",
      "/ 林麗貞/ 表示/ ，/ 雖然/ 基本/ 金屬/ 占外/ 銷訂/ 單構/ 成比僅/ 6.3%/ ，/ 美國/ 這項/ 貿易/ 政策/ 不/ 至於/ 對/ 整體/ 經濟/ 指標/ 的後續/ 走勢/ ，/ 造成/ 太大波動/ ，/ 但/ 就/ 個/ 別產業/ 而言/ ，/ 勢必/ 對/ 鋼鋁業者/ 造成/ 衝擊/ 。/ \n",
      "/ 美國/ 是/ 台灣/ 最大/ 的/ 鋼鐵/ 出口/ 市場/ ，/ 觀察/ 去年/ 我國/ 鋼鐵/ 及其/ 製/ 品/ 出口/ 狀況/ ，/ 對美/ 出口/ 金額/ 達/ 13.5/ 億/ 美元/ 、/ 占/ 了/ 13.2%/ ，/ 而/ 我國/ 在/ 美國/ 進口/ 市場/ 的/ 市/ 占率/ 為/ 3.9%/ 、/ 排名/ 第十名/ 。/ \n",
      "/ 行政院/ 政務委員/ 鄧振中/ 已/ 率團/ 赴美/ 協商/ ，/ 希望/ 爭取/ 到/ 優惠/ 措施/ ，/ 降低/ 對/ 我/ 國業者/ 衝擊/ 。/ \n",
      "\n"
     ]
    }
   ],
   "source": [
    "seg_list = jieba.cut(demo_text, cut_all=False)  # 精确模式\n",
    "print(\"Default Mode: \" + \"/ \".join(seg_list))  "
   ]
  },
  {
   "cell_type": "code",
   "execution_count": 30,
   "metadata": {},
   "outputs": [
    {
     "name": "stdout",
     "output_type": "stream",
     "text": [
      "{'祭出': 1, '優惠': 1, '效果': 1, '出口': 3, '的後續': 1, '占': 1, '政務委員': 1, '率團': 1, '市': 1, '保護': 2, '因素': 1, '鋼鐵': 2, '制裁': 1, '觀察': 1, '美國': 4, '可能': 1, '強調': 1, '景氣': 1, '及其': 1, '已': 1, '關稅': 2, '億': 1, '的': 3, '很': 1, '尤其': 1, '手段': 1, '至於': 1, '整體': 1, '了': 1, '協商': 1, '3.9%': 1, '希望': 1, '金屬': 1, '基本': 1, '總統川': 1, '近年': 1, '到': 1, '權': 1, '措施': 1, '貿易': 4, '經濟部': 2, '林麗貞': 2, '13.5': 1, '看法': 1, '銷訂': 1, '最須': 1, '狀況': 1, '美國課': 1, '金額': 1, '去年': 1, '成比僅': 1, '為': 1, '確定': 1, '占外': 1, '第十名': 1, '衝擊': 2, '主義興起': 1, '個': 1, '6.3%': 1, '抱持': 1, '指標': 1, '對美': 1, '但': 2, '爭取': 1, '勢必': 1, '在': 2, '本月': 1, '降低': 1, '樂觀': 1, '處長': 1, '有': 1, '國業者': 2, '鋼鋁課': 1, '13.2%': 1, '徵高': 1, '排名': 1, '僅': 1, '豁免': 1, '就': 1, '仍': 1, '鄧振中': 1, '走勢': 1, '宣布': 1, '我國': 2, '而': 1, '太大波動': 1, '鋼鋁業者': 1, '更': 1, '統計處': 1, '占率': 1, '造成': 3, '今年': 1, '普持續': 1, '墨西哥': 1, '美元': 1, '製': 1, '別產業': 1, '主義是': 1, '注意': 1, '最大': 1, '赴美': 1, '市場': 2, '品': 1, '雖然': 1, '達': 1, '政策': 1, '而言': 1, '是': 1, '鋼鋁高': 1, '不': 2, '經濟': 1, '進口': 3, '台灣': 1, '表示': 1, '這項': 1, '行政院': 1, '排擠': 1, '加拿大': 1, '單構': 1}\n"
     ]
    }
   ],
   "source": [
    "seg_list = jieba.cut(demo_text, cut_all=False)\n",
    "seg_list = list(seg_list)\n",
    "wordDict = {}\n",
    "for w in seg_list:\n",
    "    if (w not in stopwords) and (w not in puncs):\n",
    "        if w in wordDict:\n",
    "            wordDict[w] = wordDict[w] + 1\n",
    "        else:\n",
    "            wordDict[w] = 1\n",
    "print(wordDict)"
   ]
  },
  {
   "cell_type": "code",
   "execution_count": 44,
   "metadata": {},
   "outputs": [
    {
     "ename": "OSError",
     "evalue": "unknown file format",
     "output_type": "error",
     "traceback": [
      "\u001b[0;31m---------------------------------------------------------------------------\u001b[0m",
      "\u001b[0;31mOSError\u001b[0m                                   Traceback (most recent call last)",
      "\u001b[0;32m<ipython-input-44-9e1369395169>\u001b[0m in \u001b[0;36m<module>\u001b[0;34m()\u001b[0m\n\u001b[1;32m      1\u001b[0m \u001b[0mfont\u001b[0m \u001b[0;34m=\u001b[0m \u001b[0;34mr\"/etc/fonts/conf.d/69-language-selector-zh-cn.conf\"\u001b[0m\u001b[0;34m\u001b[0m\u001b[0m\n\u001b[1;32m      2\u001b[0m \u001b[0mwordcloud\u001b[0m \u001b[0;34m=\u001b[0m \u001b[0mWordCloud\u001b[0m\u001b[0;34m(\u001b[0m\u001b[0mfont_path\u001b[0m\u001b[0;34m=\u001b[0m\u001b[0mfont\u001b[0m\u001b[0;34m)\u001b[0m\u001b[0;34m\u001b[0m\u001b[0m\n\u001b[0;32m----> 3\u001b[0;31m \u001b[0mwordcloud\u001b[0m\u001b[0;34m.\u001b[0m\u001b[0mfit_words\u001b[0m\u001b[0;34m(\u001b[0m\u001b[0mwordDict\u001b[0m\u001b[0;34m)\u001b[0m\u001b[0;34m\u001b[0m\u001b[0m\n\u001b[0m\u001b[1;32m      4\u001b[0m \u001b[0mplt\u001b[0m\u001b[0;34m.\u001b[0m\u001b[0mimshow\u001b[0m\u001b[0;34m(\u001b[0m\u001b[0mwordcloud\u001b[0m\u001b[0;34m)\u001b[0m\u001b[0;34m\u001b[0m\u001b[0m\n",
      "\u001b[0;32m/usr/local/lib/python3.5/dist-packages/wordcloud/wordcloud.py\u001b[0m in \u001b[0;36mfit_words\u001b[0;34m(self, frequencies)\u001b[0m\n\u001b[1;32m    327\u001b[0m         \u001b[0mself\u001b[0m\u001b[0;34m\u001b[0m\u001b[0m\n\u001b[1;32m    328\u001b[0m         \"\"\"\n\u001b[0;32m--> 329\u001b[0;31m         \u001b[0;32mreturn\u001b[0m \u001b[0mself\u001b[0m\u001b[0;34m.\u001b[0m\u001b[0mgenerate_from_frequencies\u001b[0m\u001b[0;34m(\u001b[0m\u001b[0mfrequencies\u001b[0m\u001b[0;34m)\u001b[0m\u001b[0;34m\u001b[0m\u001b[0m\n\u001b[0m\u001b[1;32m    330\u001b[0m \u001b[0;34m\u001b[0m\u001b[0m\n\u001b[1;32m    331\u001b[0m     \u001b[0;32mdef\u001b[0m \u001b[0mgenerate_from_frequencies\u001b[0m\u001b[0;34m(\u001b[0m\u001b[0mself\u001b[0m\u001b[0;34m,\u001b[0m \u001b[0mfrequencies\u001b[0m\u001b[0;34m,\u001b[0m \u001b[0mmax_font_size\u001b[0m\u001b[0;34m=\u001b[0m\u001b[0;32mNone\u001b[0m\u001b[0;34m)\u001b[0m\u001b[0;34m:\u001b[0m\u001b[0;34m\u001b[0m\u001b[0m\n",
      "\u001b[0;32m/usr/local/lib/python3.5/dist-packages/wordcloud/wordcloud.py\u001b[0m in \u001b[0;36mgenerate_from_frequencies\u001b[0;34m(self, frequencies, max_font_size)\u001b[0m\n\u001b[1;32m    403\u001b[0m             \u001b[0;32melse\u001b[0m\u001b[0;34m:\u001b[0m\u001b[0;34m\u001b[0m\u001b[0m\n\u001b[1;32m    404\u001b[0m                 self.generate_from_frequencies(dict(frequencies[:2]),\n\u001b[0;32m--> 405\u001b[0;31m                                                max_font_size=self.height)\n\u001b[0m\u001b[1;32m    406\u001b[0m                 \u001b[0;31m# find font sizes\u001b[0m\u001b[0;34m\u001b[0m\u001b[0;34m\u001b[0m\u001b[0m\n\u001b[1;32m    407\u001b[0m                 \u001b[0msizes\u001b[0m \u001b[0;34m=\u001b[0m \u001b[0;34m[\u001b[0m\u001b[0mx\u001b[0m\u001b[0;34m[\u001b[0m\u001b[0;36m1\u001b[0m\u001b[0;34m]\u001b[0m \u001b[0;32mfor\u001b[0m \u001b[0mx\u001b[0m \u001b[0;32min\u001b[0m \u001b[0mself\u001b[0m\u001b[0;34m.\u001b[0m\u001b[0mlayout_\u001b[0m\u001b[0;34m]\u001b[0m\u001b[0;34m\u001b[0m\u001b[0m\n",
      "\u001b[0;32m/usr/local/lib/python3.5/dist-packages/wordcloud/wordcloud.py\u001b[0m in \u001b[0;36mgenerate_from_frequencies\u001b[0;34m(self, frequencies, max_font_size)\u001b[0m\n\u001b[1;32m    437\u001b[0m             \u001b[0;32mwhile\u001b[0m \u001b[0;32mTrue\u001b[0m\u001b[0;34m:\u001b[0m\u001b[0;34m\u001b[0m\u001b[0m\n\u001b[1;32m    438\u001b[0m                 \u001b[0;31m# try to find a position\u001b[0m\u001b[0;34m\u001b[0m\u001b[0;34m\u001b[0m\u001b[0m\n\u001b[0;32m--> 439\u001b[0;31m                 \u001b[0mfont\u001b[0m \u001b[0;34m=\u001b[0m \u001b[0mImageFont\u001b[0m\u001b[0;34m.\u001b[0m\u001b[0mtruetype\u001b[0m\u001b[0;34m(\u001b[0m\u001b[0mself\u001b[0m\u001b[0;34m.\u001b[0m\u001b[0mfont_path\u001b[0m\u001b[0;34m,\u001b[0m \u001b[0mfont_size\u001b[0m\u001b[0;34m)\u001b[0m\u001b[0;34m\u001b[0m\u001b[0m\n\u001b[0m\u001b[1;32m    440\u001b[0m                 \u001b[0;31m# transpose font optionally\u001b[0m\u001b[0;34m\u001b[0m\u001b[0;34m\u001b[0m\u001b[0m\n\u001b[1;32m    441\u001b[0m                 transposed_font = ImageFont.TransposedFont(\n",
      "\u001b[0;32m/usr/lib/python3/dist-packages/PIL/ImageFont.py\u001b[0m in \u001b[0;36mtruetype\u001b[0;34m(font, size, index, encoding)\u001b[0m\n\u001b[1;32m    237\u001b[0m \u001b[0;34m\u001b[0m\u001b[0m\n\u001b[1;32m    238\u001b[0m     \u001b[0;32mtry\u001b[0m\u001b[0;34m:\u001b[0m\u001b[0;34m\u001b[0m\u001b[0m\n\u001b[0;32m--> 239\u001b[0;31m         \u001b[0;32mreturn\u001b[0m \u001b[0mFreeTypeFont\u001b[0m\u001b[0;34m(\u001b[0m\u001b[0mfont\u001b[0m\u001b[0;34m,\u001b[0m \u001b[0msize\u001b[0m\u001b[0;34m,\u001b[0m \u001b[0mindex\u001b[0m\u001b[0;34m,\u001b[0m \u001b[0mencoding\u001b[0m\u001b[0;34m)\u001b[0m\u001b[0;34m\u001b[0m\u001b[0m\n\u001b[0m\u001b[1;32m    240\u001b[0m     \u001b[0;32mexcept\u001b[0m \u001b[0mIOError\u001b[0m\u001b[0;34m:\u001b[0m\u001b[0;34m\u001b[0m\u001b[0m\n\u001b[1;32m    241\u001b[0m         \u001b[0mttf_filename\u001b[0m \u001b[0;34m=\u001b[0m \u001b[0mos\u001b[0m\u001b[0;34m.\u001b[0m\u001b[0mpath\u001b[0m\u001b[0;34m.\u001b[0m\u001b[0mbasename\u001b[0m\u001b[0;34m(\u001b[0m\u001b[0mfont\u001b[0m\u001b[0;34m)\u001b[0m\u001b[0;34m\u001b[0m\u001b[0m\n",
      "\u001b[0;32m/usr/lib/python3/dist-packages/PIL/ImageFont.py\u001b[0m in \u001b[0;36m__init__\u001b[0;34m(self, font, size, index, encoding)\u001b[0m\n\u001b[1;32m    126\u001b[0m \u001b[0;34m\u001b[0m\u001b[0m\n\u001b[1;32m    127\u001b[0m         \u001b[0;32mif\u001b[0m \u001b[0misPath\u001b[0m\u001b[0;34m(\u001b[0m\u001b[0mfont\u001b[0m\u001b[0;34m)\u001b[0m\u001b[0;34m:\u001b[0m\u001b[0;34m\u001b[0m\u001b[0m\n\u001b[0;32m--> 128\u001b[0;31m             \u001b[0mself\u001b[0m\u001b[0;34m.\u001b[0m\u001b[0mfont\u001b[0m \u001b[0;34m=\u001b[0m \u001b[0mcore\u001b[0m\u001b[0;34m.\u001b[0m\u001b[0mgetfont\u001b[0m\u001b[0;34m(\u001b[0m\u001b[0mfont\u001b[0m\u001b[0;34m,\u001b[0m \u001b[0msize\u001b[0m\u001b[0;34m,\u001b[0m \u001b[0mindex\u001b[0m\u001b[0;34m,\u001b[0m \u001b[0mencoding\u001b[0m\u001b[0;34m)\u001b[0m\u001b[0;34m\u001b[0m\u001b[0m\n\u001b[0m\u001b[1;32m    129\u001b[0m         \u001b[0;32melse\u001b[0m\u001b[0;34m:\u001b[0m\u001b[0;34m\u001b[0m\u001b[0m\n\u001b[1;32m    130\u001b[0m             \u001b[0mself\u001b[0m\u001b[0;34m.\u001b[0m\u001b[0mfont_bytes\u001b[0m \u001b[0;34m=\u001b[0m \u001b[0mfont\u001b[0m\u001b[0;34m.\u001b[0m\u001b[0mread\u001b[0m\u001b[0;34m(\u001b[0m\u001b[0;34m)\u001b[0m\u001b[0;34m\u001b[0m\u001b[0m\n",
      "\u001b[0;31mOSError\u001b[0m: unknown file format"
     ]
    }
   ],
   "source": [
    "font = r\"/etc/fonts/conf.d/69-language-selector-zh-cn.conf\"\n",
    "wordcloud = WordCloud(font_path=font)\n",
    "wordcloud.fit_words(wordDict)\n",
    "plt.imshow(wordcloud)"
   ]
  },
  {
   "cell_type": "code",
   "execution_count": null,
   "metadata": {
    "collapsed": true
   },
   "outputs": [],
   "source": []
  }
 ],
 "metadata": {
  "kernelspec": {
   "display_name": "Python 3",
   "language": "python",
   "name": "python3"
  },
  "language_info": {
   "codemirror_mode": {
    "name": "ipython",
    "version": 3
   },
   "file_extension": ".py",
   "mimetype": "text/x-python",
   "name": "python",
   "nbconvert_exporter": "python",
   "pygments_lexer": "ipython3",
   "version": "3.5.2"
  }
 },
 "nbformat": 4,
 "nbformat_minor": 2
}
